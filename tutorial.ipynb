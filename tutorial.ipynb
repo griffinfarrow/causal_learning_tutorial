{
 "cells": [
  {
   "cell_type": "markdown",
   "metadata": {},
   "source": [
    "# Causal Machine Learning Tutorial\n",
    "\n",
    "This is a tutorial in using two different causal machine learning approaches: targeted maximum likelihood estimation (TMLE) and double/debiased machine learning (DML). These methods are both going to be used to estimate the treatment effect for a binary treatment.  \n",
    "  \n",
    "This is strongly based on a tutorial given in: https://migariane.github.io/TMLE.nb.html, which implemented TMLE in `R` and https://github.com/matthewvowels1/TargetedLearningTutorial which implemented TMLE on the same problem in `Python`. Here, both are to be implemented in `Python` and we will compare the performance of TMLE and DML.  \n",
    "  \n",
    "See the paper here: *Luque-Fernandez MA, Schomaker M, Rachet B, Schnitzer ME. Targeted maximum likelihood estimation for a binary treatment: A tutorial. Statistics in Medicine. 2018; 37: 2530–2546. https://doi.org/10.1002/sim.7628*"
   ]
  },
  {
   "cell_type": "code",
   "execution_count": 73,
   "metadata": {},
   "outputs": [],
   "source": [
    "import numpy as np\n",
    "import pandas as pd\n",
    "import statsmodels.api as sm"
   ]
  },
  {
   "cell_type": "markdown",
   "metadata": {
    "vscode": {
     "languageId": "plaintext"
    }
   },
   "source": [
    "### Data Generating Function\n",
    "  \n",
    "Causal ML is about inferring parameters of some data generating function. We copy the generating function from the original paper"
   ]
  },
  {
   "cell_type": "code",
   "execution_count": 74,
   "metadata": {},
   "outputs": [],
   "source": [
    "def sigmoid(x):\n",
    "    return 1/(1 + np.exp(-x))\n",
    "\n",
    "def logit(p):\n",
    "    return np.log(p) - np.log(1 - p)\n",
    "\n",
    "def generate_data(n):\n",
    "    np.random.seed(1)\n",
    "    w1 = np.random.binomial(1, 0.5, n)        \n",
    "    w2 = np.random.binomial(1, 0.65, n)    \n",
    "    w3 = np.round(np.random.uniform(0, 4, n), 3)\n",
    "    w4 = np.round(np.random.uniform(0, 5, n), 3)\n",
    "    p_A = sigmoid(-0.4 + 0.2*w2 + 0.15*w3 + 0.2*w4 +0.15*w2*w4)\n",
    "    \n",
    "    A = np.random.binomial(1, p_A, n)\n",
    "    \n",
    "    p_y1 = sigmoid(-1 + 1 -0.1*w1 + 0.3*w2 + 0.25*w3+ 0.2*w4 + 0.15*w2*w4)\n",
    "    p_y0 = sigmoid(-1 + 0 -0.1*w1 + 0.3*w2 + 0.25*w3 + 0.2*w4 + 0.15*w2*w4)\n",
    "    Y1 = np.random.binomial(1, p_y1, n)\n",
    "    Y0 = np.random.binomial(1, p_y0, n)\n",
    "    \n",
    "    Y = Y1 * A + Y0*(1-A)\n",
    "    \n",
    "    cols = ['w1', 'w2', 'w3', 'w4', 'A','Y', 'Y1', 'Y0']\n",
    "    df = pd.DataFrame([w1, w2, w3, w4, A, Y, Y1, Y0]).T\n",
    "    df.columns = cols\n",
    "    return df"
   ]
  },
  {
   "cell_type": "code",
   "execution_count": 75,
   "metadata": {},
   "outputs": [],
   "source": [
    "df = generate_data(10000)"
   ]
  },
  {
   "cell_type": "code",
   "execution_count": 76,
   "metadata": {},
   "outputs": [],
   "source": [
    "# add columns for the future interventional variables (we want to get the difference between everyone treated and everyone not treated)\n",
    "\n",
    "df['A0'] = 0\n",
    "df['A1'] = 1"
   ]
  },
  {
   "cell_type": "code",
   "execution_count": 77,
   "metadata": {},
   "outputs": [
    {
     "name": "stdout",
     "output_type": "stream",
     "text": [
      "True Psi = 0.2026\n"
     ]
    }
   ],
   "source": [
    "true_psi = (df['Y1']-df['Y0']).mean() # true value of ATE \n",
    "print(f'True Psi = {true_psi}')"
   ]
  },
  {
   "cell_type": "code",
   "execution_count": 78,
   "metadata": {},
   "outputs": [
    {
     "name": "stdout",
     "output_type": "stream",
     "text": [
      "    w1   w2     w3     w4    A    Y   Y1   Y0  A0  A1\n",
      "0  0.0  0.0  3.223  1.797  0.0  1.0  1.0  1.0   0   1\n",
      "1  1.0  1.0  2.166  4.725  1.0  1.0  1.0  1.0   0   1\n",
      "2  0.0  0.0  3.516  4.177  1.0  1.0  1.0  1.0   0   1\n",
      "3  0.0  0.0  3.790  0.605  1.0  1.0  1.0  1.0   0   1\n",
      "4  0.0  1.0  3.331  1.879  1.0  1.0  1.0  0.0   0   1\n"
     ]
    }
   ],
   "source": [
    "print(df.head())"
   ]
  },
  {
   "cell_type": "markdown",
   "metadata": {},
   "source": [
    "## TMLE  \n",
    "  \n",
    "Here are the steps implementing the TMLE method"
   ]
  },
  {
   "cell_type": "code",
   "execution_count": 79,
   "metadata": {},
   "outputs": [],
   "source": [
    "X_cols = ['w1', 'w2', 'w3', 'w4', 'A']\n",
    "y_cols = ['Y']"
   ]
  },
  {
   "cell_type": "code",
   "execution_count": 87,
   "metadata": {},
   "outputs": [
    {
     "data": {
      "text/html": [
       "<table class=\"simpletable\">\n",
       "<caption>OLS Regression Results</caption>\n",
       "<tr>\n",
       "  <th>Dep. Variable:</th>            <td>Y</td>        <th>  R-squared:         </th> <td>   0.121</td> \n",
       "</tr>\n",
       "<tr>\n",
       "  <th>Model:</th>                   <td>OLS</td>       <th>  Adj. R-squared:    </th> <td>   0.121</td> \n",
       "</tr>\n",
       "<tr>\n",
       "  <th>Method:</th>             <td>Least Squares</td>  <th>  F-statistic:       </th> <td>   275.3</td> \n",
       "</tr>\n",
       "<tr>\n",
       "  <th>Date:</th>             <td>Wed, 20 Nov 2024</td> <th>  Prob (F-statistic):</th> <td>9.98e-277</td>\n",
       "</tr>\n",
       "<tr>\n",
       "  <th>Time:</th>                 <td>11:14:48</td>     <th>  Log-Likelihood:    </th> <td> -5591.5</td> \n",
       "</tr>\n",
       "<tr>\n",
       "  <th>No. Observations:</th>      <td> 10000</td>      <th>  AIC:               </th> <td>1.120e+04</td>\n",
       "</tr>\n",
       "<tr>\n",
       "  <th>Df Residuals:</th>          <td>  9994</td>      <th>  BIC:               </th> <td>1.124e+04</td>\n",
       "</tr>\n",
       "<tr>\n",
       "  <th>Df Model:</th>              <td>     5</td>      <th>                     </th>     <td> </td>    \n",
       "</tr>\n",
       "<tr>\n",
       "  <th>Covariance Type:</th>      <td>nonrobust</td>    <th>                     </th>     <td> </td>    \n",
       "</tr>\n",
       "</table>\n",
       "<table class=\"simpletable\">\n",
       "<tr>\n",
       "    <td></td>       <th>coef</th>     <th>std err</th>      <th>t</th>      <th>P>|t|</th>  <th>[0.025</th>    <th>0.975]</th>  \n",
       "</tr>\n",
       "<tr>\n",
       "  <th>const</th> <td>    0.3007</td> <td>    0.014</td> <td>   21.734</td> <td> 0.000</td> <td>    0.274</td> <td>    0.328</td>\n",
       "</tr>\n",
       "<tr>\n",
       "  <th>w1</th>    <td>   -0.0248</td> <td>    0.008</td> <td>   -2.922</td> <td> 0.003</td> <td>   -0.041</td> <td>   -0.008</td>\n",
       "</tr>\n",
       "<tr>\n",
       "  <th>w2</th>    <td>    0.1184</td> <td>    0.009</td> <td>   13.340</td> <td> 0.000</td> <td>    0.101</td> <td>    0.136</td>\n",
       "</tr>\n",
       "<tr>\n",
       "  <th>w3</th>    <td>    0.0444</td> <td>    0.004</td> <td>   12.113</td> <td> 0.000</td> <td>    0.037</td> <td>    0.052</td>\n",
       "</tr>\n",
       "<tr>\n",
       "  <th>w4</th>    <td>    0.0505</td> <td>    0.003</td> <td>   16.988</td> <td> 0.000</td> <td>    0.045</td> <td>    0.056</td>\n",
       "</tr>\n",
       "<tr>\n",
       "  <th>A</th>     <td>    0.2034</td> <td>    0.009</td> <td>   21.966</td> <td> 0.000</td> <td>    0.185</td> <td>    0.222</td>\n",
       "</tr>\n",
       "</table>\n",
       "<table class=\"simpletable\">\n",
       "<tr>\n",
       "  <th>Omnibus:</th>       <td>1600.679</td> <th>  Durbin-Watson:     </th> <td>   2.034</td> \n",
       "</tr>\n",
       "<tr>\n",
       "  <th>Prob(Omnibus):</th>  <td> 0.000</td>  <th>  Jarque-Bera (JB):  </th> <td>1287.363</td> \n",
       "</tr>\n",
       "<tr>\n",
       "  <th>Skew:</th>           <td>-0.786</td>  <th>  Prob(JB):          </th> <td>2.84e-280</td>\n",
       "</tr>\n",
       "<tr>\n",
       "  <th>Kurtosis:</th>       <td> 2.215</td>  <th>  Cond. No.          </th> <td>    13.2</td> \n",
       "</tr>\n",
       "</table><br/><br/>Notes:<br/>[1] Standard Errors assume that the covariance matrix of the errors is correctly specified."
      ],
      "text/latex": [
       "\\begin{center}\n",
       "\\begin{tabular}{lclc}\n",
       "\\toprule\n",
       "\\textbf{Dep. Variable:}    &        Y         & \\textbf{  R-squared:         } &     0.121   \\\\\n",
       "\\textbf{Model:}            &       OLS        & \\textbf{  Adj. R-squared:    } &     0.121   \\\\\n",
       "\\textbf{Method:}           &  Least Squares   & \\textbf{  F-statistic:       } &     275.3   \\\\\n",
       "\\textbf{Date:}             & Wed, 20 Nov 2024 & \\textbf{  Prob (F-statistic):} & 9.98e-277   \\\\\n",
       "\\textbf{Time:}             &     11:14:48     & \\textbf{  Log-Likelihood:    } &   -5591.5   \\\\\n",
       "\\textbf{No. Observations:} &       10000      & \\textbf{  AIC:               } & 1.120e+04   \\\\\n",
       "\\textbf{Df Residuals:}     &        9994      & \\textbf{  BIC:               } & 1.124e+04   \\\\\n",
       "\\textbf{Df Model:}         &           5      & \\textbf{                     } &             \\\\\n",
       "\\textbf{Covariance Type:}  &    nonrobust     & \\textbf{                     } &             \\\\\n",
       "\\bottomrule\n",
       "\\end{tabular}\n",
       "\\begin{tabular}{lcccccc}\n",
       "               & \\textbf{coef} & \\textbf{std err} & \\textbf{t} & \\textbf{P$> |$t$|$} & \\textbf{[0.025} & \\textbf{0.975]}  \\\\\n",
       "\\midrule\n",
       "\\textbf{const} &       0.3007  &        0.014     &    21.734  &         0.000        &        0.274    &        0.328     \\\\\n",
       "\\textbf{w1}    &      -0.0248  &        0.008     &    -2.922  &         0.003        &       -0.041    &       -0.008     \\\\\n",
       "\\textbf{w2}    &       0.1184  &        0.009     &    13.340  &         0.000        &        0.101    &        0.136     \\\\\n",
       "\\textbf{w3}    &       0.0444  &        0.004     &    12.113  &         0.000        &        0.037    &        0.052     \\\\\n",
       "\\textbf{w4}    &       0.0505  &        0.003     &    16.988  &         0.000        &        0.045    &        0.056     \\\\\n",
       "\\textbf{A}     &       0.2034  &        0.009     &    21.966  &         0.000        &        0.185    &        0.222     \\\\\n",
       "\\bottomrule\n",
       "\\end{tabular}\n",
       "\\begin{tabular}{lclc}\n",
       "\\textbf{Omnibus:}       & 1600.679 & \\textbf{  Durbin-Watson:     } &     2.034  \\\\\n",
       "\\textbf{Prob(Omnibus):} &   0.000  & \\textbf{  Jarque-Bera (JB):  } &  1287.363  \\\\\n",
       "\\textbf{Skew:}          &  -0.786  & \\textbf{  Prob(JB):          } & 2.84e-280  \\\\\n",
       "\\textbf{Kurtosis:}      &   2.215  & \\textbf{  Cond. No.          } &      13.2  \\\\\n",
       "\\bottomrule\n",
       "\\end{tabular}\n",
       "%\\caption{OLS Regression Results}\n",
       "\\end{center}\n",
       "\n",
       "Notes: \\newline\n",
       " [1] Standard Errors assume that the covariance matrix of the errors is correctly specified."
      ],
      "text/plain": [
       "<class 'statsmodels.iolib.summary.Summary'>\n",
       "\"\"\"\n",
       "                            OLS Regression Results                            \n",
       "==============================================================================\n",
       "Dep. Variable:                      Y   R-squared:                       0.121\n",
       "Model:                            OLS   Adj. R-squared:                  0.121\n",
       "Method:                 Least Squares   F-statistic:                     275.3\n",
       "Date:                Wed, 20 Nov 2024   Prob (F-statistic):          9.98e-277\n",
       "Time:                        11:14:48   Log-Likelihood:                -5591.5\n",
       "No. Observations:               10000   AIC:                         1.120e+04\n",
       "Df Residuals:                    9994   BIC:                         1.124e+04\n",
       "Df Model:                           5                                         \n",
       "Covariance Type:            nonrobust                                         \n",
       "==============================================================================\n",
       "                 coef    std err          t      P>|t|      [0.025      0.975]\n",
       "------------------------------------------------------------------------------\n",
       "const          0.3007      0.014     21.734      0.000       0.274       0.328\n",
       "w1            -0.0248      0.008     -2.922      0.003      -0.041      -0.008\n",
       "w2             0.1184      0.009     13.340      0.000       0.101       0.136\n",
       "w3             0.0444      0.004     12.113      0.000       0.037       0.052\n",
       "w4             0.0505      0.003     16.988      0.000       0.045       0.056\n",
       "A              0.2034      0.009     21.966      0.000       0.185       0.222\n",
       "==============================================================================\n",
       "Omnibus:                     1600.679   Durbin-Watson:                   2.034\n",
       "Prob(Omnibus):                  0.000   Jarque-Bera (JB):             1287.363\n",
       "Skew:                          -0.786   Prob(JB):                    2.84e-280\n",
       "Kurtosis:                       2.215   Cond. No.                         13.2\n",
       "==============================================================================\n",
       "\n",
       "Notes:\n",
       "[1] Standard Errors assume that the covariance matrix of the errors is correctly specified.\n",
       "\"\"\""
      ]
     },
     "execution_count": 87,
     "metadata": {},
     "output_type": "execute_result"
    }
   ],
   "source": [
    "X = sm.add_constant(df[X_cols], prepend=True)\n",
    "\n",
    "mod = sm.OLS(df[y_cols],  X) # tries a naive estimate of how the outcome is related to the covariates, using ordinary least squares\n",
    "res = mod.fit()\n",
    "res.summary()\n",
    "\n"
   ]
  },
  {
   "cell_type": "code",
   "execution_count": 88,
   "metadata": {},
   "outputs": [],
   "source": [
    "biased_psi = res.params.A"
   ]
  },
  {
   "cell_type": "code",
   "execution_count": 89,
   "metadata": {},
   "outputs": [
    {
     "name": "stdout",
     "output_type": "stream",
     "text": [
      "Biased estimate of Psi (coefficient): 0.20336342193773688\n",
      "Amount of naive bias: 0.0007634219377368745\n",
      "Relative naive bias: 0.3768124075700269 %\n"
     ]
    }
   ],
   "source": [
    "print('Biased estimate of Psi (coefficient):', biased_psi)\n",
    "print('Amount of naive bias:', np.abs(biased_psi - true_psi))\n",
    "\n",
    "naive_relative_bias = ((biased_psi - true_psi) / true_psi)*100\n",
    "print('Relative naive bias:', naive_relative_bias, '%')"
   ]
  }
 ],
 "metadata": {
  "kernelspec": {
   "display_name": "python_venv",
   "language": "python",
   "name": "python3"
  },
  "language_info": {
   "codemirror_mode": {
    "name": "ipython",
    "version": 3
   },
   "file_extension": ".py",
   "mimetype": "text/x-python",
   "name": "python",
   "nbconvert_exporter": "python",
   "pygments_lexer": "ipython3",
   "version": "3.10.9"
  }
 },
 "nbformat": 4,
 "nbformat_minor": 2
}
